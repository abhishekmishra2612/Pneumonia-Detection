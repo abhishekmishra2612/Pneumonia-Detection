{
  "nbformat": 4,
  "nbformat_minor": 0,
  "metadata": {
    "colab": {
      "name": "PNEUMONIA_Test.ipynb",
      "provenance": [],
      "authorship_tag": "ABX9TyOY6LrYTRbojx2kFw0BhP8r",
      "include_colab_link": true
    },
    "kernelspec": {
      "name": "python3",
      "display_name": "Python 3"
    }
  },
  "cells": [
    {
      "cell_type": "markdown",
      "metadata": {
        "id": "view-in-github",
        "colab_type": "text"
      },
      "source": [
        "<a href=\"https://colab.research.google.com/github/abhishekmishra2612/Pneumonia-Detection/blob/master/PNEUMONIA_Test.ipynb\" target=\"_parent\"><img src=\"https://colab.research.google.com/assets/colab-badge.svg\" alt=\"Open In Colab\"/></a>"
      ]
    },
    {
      "cell_type": "code",
      "metadata": {
        "id": "OAsMjzeBfNOb",
        "colab_type": "code",
        "outputId": "a7c70130-3bff-42d9-d898-3b50ab4001b9",
        "colab": {
          "base_uri": "https://localhost:8080/",
          "height": 122
        }
      },
      "source": [
        "from google.colab import drive\n",
        "drive.mount(\"/content/drive/\")"
      ],
      "execution_count": 0,
      "outputs": [
        {
          "output_type": "stream",
          "text": [
            "Go to this URL in a browser: https://accounts.google.com/o/oauth2/auth?client_id=947318989803-6bn6qk8qdgf4n4g3pfee6491hc0brc4i.apps.googleusercontent.com&redirect_uri=urn%3aietf%3awg%3aoauth%3a2.0%3aoob&response_type=code&scope=email%20https%3a%2f%2fwww.googleapis.com%2fauth%2fdocs.test%20https%3a%2f%2fwww.googleapis.com%2fauth%2fdrive%20https%3a%2f%2fwww.googleapis.com%2fauth%2fdrive.photos.readonly%20https%3a%2f%2fwww.googleapis.com%2fauth%2fpeopleapi.readonly\n",
            "\n",
            "Enter your authorization code:\n",
            "··········\n",
            "Mounted at /content/drive/\n"
          ],
          "name": "stdout"
        }
      ]
    },
    {
      "cell_type": "code",
      "metadata": {
        "id": "fnqHcqppfYN-",
        "colab_type": "code",
        "outputId": "bc0ba0ec-4ebe-4676-b8bb-566e8d94cec9",
        "colab": {
          "base_uri": "https://localhost:8080/",
          "height": 34
        }
      },
      "source": [
        "import tensorflow as tf\n",
        "from tensorflow import keras\n",
        "from keras.applications.inception_v3 import InceptionV3,preprocess_input\n",
        "from keras.models import Model\n",
        "from keras.preprocessing.image import load_img,img_to_array\n",
        "import matplotlib.pyplot as plt\n",
        "import numpy as np"
      ],
      "execution_count": 0,
      "outputs": [
        {
          "output_type": "stream",
          "text": [
            "Using TensorFlow backend.\n"
          ],
          "name": "stderr"
        }
      ]
    },
    {
      "cell_type": "code",
      "metadata": {
        "id": "MA7Hr9MJlG30",
        "colab_type": "code",
        "colab": {}
      },
      "source": [
        "normal_image=img_to_array(load_img(\"/content/drive/My Drive/NORMAL/NORMAL_7.jpeg\",target_size=(299,299)))"
      ],
      "execution_count": 0,
      "outputs": []
    },
    {
      "cell_type": "code",
      "metadata": {
        "id": "Mq4XGeL_lssx",
        "colab_type": "code",
        "colab": {}
      },
      "source": [
        "pneumonia_image=img_to_array(load_img(\"/content/drive/My Drive/PNEUMONIA/person1950_bacteria_4881.jpeg\",target_size=(299,299)))"
      ],
      "execution_count": 0,
      "outputs": []
    },
    {
      "cell_type": "code",
      "metadata": {
        "id": "Mxsvd2Rnl-Ul",
        "colab_type": "code",
        "outputId": "5bcf82b7-e7f8-45f9-bc6d-0674c367b915",
        "colab": {
          "base_uri": "https://localhost:8080/",
          "height": 51
        }
      },
      "source": [
        "feature_extracter=keras.applications.inception_v3.InceptionV3()\n",
        "\n",
        "for layer in feature_extracter.layers:\n",
        "  layer.trainable=False\n",
        "\n",
        "feature_Extracter=keras.models.Model(inputs=feature_extracter.input,outputs=feature_extracter.layers[-2].output)"
      ],
      "execution_count": 0,
      "outputs": [
        {
          "output_type": "stream",
          "text": [
            "Downloading data from https://storage.googleapis.com/tensorflow/keras-applications/inception_v3/inception_v3_weights_tf_dim_ordering_tf_kernels.h5\n",
            "96116736/96112376 [==============================] - 1s 0us/step\n"
          ],
          "name": "stdout"
        }
      ]
    },
    {
      "cell_type": "code",
      "metadata": {
        "id": "9oeISoe0pQc7",
        "colab_type": "code",
        "colab": {}
      },
      "source": [
        "# load json and create model\n",
        "json_file = open('/content/drive/My Drive/pneumonia_model.json', 'r')\n",
        "loaded_model_json = json_file.read()\n",
        "json_file.close()\n",
        "loaded_model = keras.models.model_from_json(loaded_model_json)\n",
        "# load weights into new model\n",
        "loaded_model.load_weights(\"/content/drive/My Drive/pneumonia_model_weights.h5\")\n",
        "loaded_model.compile(loss=\"binary_crossentropy\",optimizer=keras.optimizers.Adam(1e-4),metrics=[\"accuracy\"])"
      ],
      "execution_count": 0,
      "outputs": []
    },
    {
      "cell_type": "code",
      "metadata": {
        "id": "pf77Q0R4pQXM",
        "colab_type": "code",
        "colab": {}
      },
      "source": [
        "normal_feature=feature_Extracter.predict(keras.applications.inception_v3.preprocess_input(normal_image.reshape(1,299,299,3)))\n",
        "pneumonia_feature=feature_Extracter.predict(keras.applications.inception_v3.preprocess_input(pneumonia_image.reshape(1,299,299,3)))"
      ],
      "execution_count": 0,
      "outputs": []
    },
    {
      "cell_type": "code",
      "metadata": {
        "id": "owkB2hz13RVk",
        "colab_type": "code",
        "outputId": "88ebd5c8-88d5-485d-a597-8101ffc37404",
        "colab": {
          "base_uri": "https://localhost:8080/",
          "height": 34
        }
      },
      "source": [
        "normal_feature.shape"
      ],
      "execution_count": 0,
      "outputs": [
        {
          "output_type": "execute_result",
          "data": {
            "text/plain": [
              "(1, 2048)"
            ]
          },
          "metadata": {
            "tags": []
          },
          "execution_count": 8
        }
      ]
    },
    {
      "cell_type": "code",
      "metadata": {
        "id": "WAPKxNTa2Qcj",
        "colab_type": "code",
        "colab": {}
      },
      "source": [
        "pred_1=loaded_model.predict(normal_feature)\n",
        "pred_2=loaded_model.predict(pneumonia_feature)"
      ],
      "execution_count": 0,
      "outputs": []
    },
    {
      "cell_type": "code",
      "metadata": {
        "id": "V1D722ll238T",
        "colab_type": "code",
        "outputId": "420bfb2c-cac0-461f-85a5-ce0ce2e615d9",
        "colab": {
          "base_uri": "https://localhost:8080/",
          "height": 51
        }
      },
      "source": [
        "print(\"Probability score of PNEUMONIA of image 1 :\",pred_1)\n",
        "print(\"Probability score of PNEUMONIA of iamge 2 :\",pred_2)"
      ],
      "execution_count": 0,
      "outputs": [
        {
          "output_type": "stream",
          "text": [
            "Probability score of PNEUMONIA of image 1 : [[0.06823935]]\n",
            "Probability score of PNEUMONIA of iamge 2 : [[0.997959]]\n"
          ],
          "name": "stdout"
        }
      ]
    },
    {
      "cell_type": "code",
      "metadata": {
        "id": "feUTqf1Q4Inc",
        "colab_type": "code",
        "colab": {}
      },
      "source": [
        ""
      ],
      "execution_count": 0,
      "outputs": []
    }
  ]
}