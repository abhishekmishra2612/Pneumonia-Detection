{
  "nbformat": 4,
  "nbformat_minor": 0,
  "metadata": {
    "colab": {
      "name": "PNEUMONIA_Model_Training.ipynb",
      "provenance": [],
      "collapsed_sections": [],
      "authorship_tag": "ABX9TyNcDnlaOAFJTdflMPxh8LpV",
      "include_colab_link": true
    },
    "kernelspec": {
      "name": "python3",
      "display_name": "Python 3"
    },
    "accelerator": "GPU"
  },
  "cells": [
    {
      "cell_type": "markdown",
      "metadata": {
        "id": "view-in-github",
        "colab_type": "text"
      },
      "source": [
        "<a href=\"https://colab.research.google.com/github/abhishekmishra2612/Pneumonia-Detection/blob/master/PNEUMONIA_Model_Training.ipynb\" target=\"_parent\"><img src=\"https://colab.research.google.com/assets/colab-badge.svg\" alt=\"Open In Colab\"/></a>"
      ]
    },
    {
      "cell_type": "code",
      "metadata": {
        "id": "_B8R1xZuP3lo",
        "colab_type": "code",
        "outputId": "387aa044-2331-420e-9ad4-e314e68d6803",
        "colab": {
          "base_uri": "https://localhost:8080/",
          "height": 122
        }
      },
      "source": [
        "from google.colab import drive\n",
        "drive.mount(\"/content/drive/\")"
      ],
      "execution_count": 0,
      "outputs": [
        {
          "output_type": "stream",
          "text": [
            "Go to this URL in a browser: https://accounts.google.com/o/oauth2/auth?client_id=947318989803-6bn6qk8qdgf4n4g3pfee6491hc0brc4i.apps.googleusercontent.com&redirect_uri=urn%3aietf%3awg%3aoauth%3a2.0%3aoob&response_type=code&scope=email%20https%3a%2f%2fwww.googleapis.com%2fauth%2fdocs.test%20https%3a%2f%2fwww.googleapis.com%2fauth%2fdrive%20https%3a%2f%2fwww.googleapis.com%2fauth%2fdrive.photos.readonly%20https%3a%2f%2fwww.googleapis.com%2fauth%2fpeopleapi.readonly\n",
            "\n",
            "Enter your authorization code:\n",
            "··········\n",
            "Mounted at /content/drive/\n"
          ],
          "name": "stdout"
        }
      ]
    },
    {
      "cell_type": "code",
      "metadata": {
        "id": "mM7igDJ_QG4M",
        "colab_type": "code",
        "outputId": "231dc2d0-d9c3-4263-c025-c1ca7529e0c8",
        "colab": {
          "base_uri": "https://localhost:8080/",
          "height": 34
        }
      },
      "source": [
        "import numpy as np\n",
        "import pandas as pd\n",
        "import matplotlib.pyplot as plt\n",
        "import tensorflow as tf\n",
        "from tensorflow import keras\n",
        "from keras.layers import Dense,Dropout,BatchNormalization\n",
        "from keras.models import Sequential "
      ],
      "execution_count": 0,
      "outputs": [
        {
          "output_type": "stream",
          "text": [
            "Using TensorFlow backend.\n"
          ],
          "name": "stderr"
        }
      ]
    },
    {
      "cell_type": "code",
      "metadata": {
        "id": "lYR5pFasdziF",
        "colab_type": "code",
        "outputId": "b2732d4f-de36-4243-cf5a-4a1a9b27bbb0",
        "colab": {
          "base_uri": "https://localhost:8080/",
          "height": 51
        }
      },
      "source": [
        "x_train=np.load(\"/content/drive/My Drive/PNEUMONIA_features.npy\")\n",
        "print(type(x_train))\n",
        "print(x_train.shape)"
      ],
      "execution_count": 0,
      "outputs": [
        {
          "output_type": "stream",
          "text": [
            "<class 'numpy.ndarray'>\n",
            "(5216, 2048)\n"
          ],
          "name": "stdout"
        }
      ]
    },
    {
      "cell_type": "code",
      "metadata": {
        "id": "3YxrlzL2dzkg",
        "colab_type": "code",
        "outputId": "7e3cbc60-24b2-494f-fede-c97e87e11f09",
        "colab": {
          "base_uri": "https://localhost:8080/",
          "height": 51
        }
      },
      "source": [
        "y_train=np.load(\"/content/drive/My Drive/PNEUMONIA_labels.npy\")\n",
        "print(type(y_train))\n",
        "print(y_train.shape)"
      ],
      "execution_count": 0,
      "outputs": [
        {
          "output_type": "stream",
          "text": [
            "<class 'numpy.ndarray'>\n",
            "(5216,)\n"
          ],
          "name": "stdout"
        }
      ]
    },
    {
      "cell_type": "code",
      "metadata": {
        "id": "JBq1UAoFdzna",
        "colab_type": "code",
        "outputId": "01417d28-c4ae-430b-bb98-a76d87a899c9",
        "colab": {
          "base_uri": "https://localhost:8080/",
          "height": 34
        }
      },
      "source": [
        "x_val=np.load(\"/content/drive/My Drive/PNEUMONIA_features_test.npy\")\n",
        "x_val.shape"
      ],
      "execution_count": 0,
      "outputs": [
        {
          "output_type": "execute_result",
          "data": {
            "text/plain": [
              "(624, 2048)"
            ]
          },
          "metadata": {
            "tags": []
          },
          "execution_count": 5
        }
      ]
    },
    {
      "cell_type": "code",
      "metadata": {
        "id": "I5jcZ0dqdz4g",
        "colab_type": "code",
        "outputId": "26209141-eee6-452e-9d3e-625f791267ec",
        "colab": {
          "base_uri": "https://localhost:8080/",
          "height": 34
        }
      },
      "source": [
        "y_val=np.load(\"/content/drive/My Drive/PNEUMONIA_labels_test.npy\")\n",
        "y_val.shape"
      ],
      "execution_count": 0,
      "outputs": [
        {
          "output_type": "execute_result",
          "data": {
            "text/plain": [
              "(624,)"
            ]
          },
          "metadata": {
            "tags": []
          },
          "execution_count": 6
        }
      ]
    },
    {
      "cell_type": "code",
      "metadata": {
        "id": "_BeK_ZlPcLhM",
        "colab_type": "code",
        "outputId": "343eae38-68b7-4e53-e16a-dd3a67478b1e",
        "colab": {
          "base_uri": "https://localhost:8080/",
          "height": 289
        }
      },
      "source": [
        "model=keras.models.Sequential()\n",
        "model.add(keras.layers.Dense(512,activation=\"relu\",input_shape=(2048,)))\n",
        "model.add(keras.layers.BatchNormalization())\n",
        "model.add(keras.layers.Dropout(0.5))\n",
        "model.add(keras.layers.Dense(1,activation=\"sigmoid\"))\n",
        "model.summary()"
      ],
      "execution_count": 0,
      "outputs": [
        {
          "output_type": "stream",
          "text": [
            "Model: \"sequential_9\"\n",
            "_________________________________________________________________\n",
            "Layer (type)                 Output Shape              Param #   \n",
            "=================================================================\n",
            "dense_18 (Dense)             (None, 512)               1049088   \n",
            "_________________________________________________________________\n",
            "batch_normalization_9 (Batch (None, 512)               2048      \n",
            "_________________________________________________________________\n",
            "dropout_9 (Dropout)          (None, 512)               0         \n",
            "_________________________________________________________________\n",
            "dense_19 (Dense)             (None, 1)                 513       \n",
            "=================================================================\n",
            "Total params: 1,051,649\n",
            "Trainable params: 1,050,625\n",
            "Non-trainable params: 1,024\n",
            "_________________________________________________________________\n"
          ],
          "name": "stdout"
        }
      ]
    },
    {
      "cell_type": "code",
      "metadata": {
        "id": "bzqHyeJXi72S",
        "colab_type": "code",
        "colab": {}
      },
      "source": [
        "import tensorflow as tf\n",
        "from sklearn import metrics\n",
        "from keras import backend as K\n",
        "\n",
        "def auc(y_true, y_pred):\n",
        "    auc = tf.metrics.auc(y_true, y_pred)[1]\n",
        "    K.get_session().run(tf.local_variables_initializer())\n",
        "    return auc"
      ],
      "execution_count": 0,
      "outputs": []
    },
    {
      "cell_type": "code",
      "metadata": {
        "id": "Y6JBQCpGcNma",
        "colab_type": "code",
        "colab": {}
      },
      "source": [
        "model.compile(loss=\"binary_crossentropy\",optimizer=keras.optimizers.Adam(1e-4),metrics=[\"accuracy\"])\n",
        "mcp_save = keras.callbacks.ModelCheckpoint('/content/drive/My Drive/best_pneumonia_model.h5', save_best_only=True, monitor='val_accuracy', mode='max')"
      ],
      "execution_count": 0,
      "outputs": []
    },
    {
      "cell_type": "code",
      "metadata": {
        "id": "xEBaqOZkcNok",
        "colab_type": "code",
        "outputId": "db145d5c-8db7-4137-befb-40bfdf2f78f0",
        "colab": {
          "base_uri": "https://localhost:8080/",
          "height": 1000
        }
      },
      "source": [
        "model_history=model.fit(x_train,y_train,batch_size=32,epochs=50,verbose=1,callbacks=[mcp_save],validation_data=(x_val,y_val))"
      ],
      "execution_count": 0,
      "outputs": [
        {
          "output_type": "stream",
          "text": [
            "Epoch 1/50\n",
            "163/163 [==============================] - 1s 3ms/step - loss: 0.3791 - accuracy: 0.8424 - val_loss: 0.3660 - val_accuracy: 0.8686\n",
            "Epoch 2/50\n",
            "163/163 [==============================] - 0s 3ms/step - loss: 0.2242 - accuracy: 0.9231 - val_loss: 0.4374 - val_accuracy: 0.7901\n",
            "Epoch 3/50\n",
            "163/163 [==============================] - 0s 3ms/step - loss: 0.1652 - accuracy: 0.9459 - val_loss: 0.3868 - val_accuracy: 0.8317\n",
            "Epoch 4/50\n",
            "163/163 [==============================] - 0s 3ms/step - loss: 0.1394 - accuracy: 0.9515 - val_loss: 0.4709 - val_accuracy: 0.8029\n",
            "Epoch 5/50\n",
            "163/163 [==============================] - 0s 3ms/step - loss: 0.1194 - accuracy: 0.9599 - val_loss: 0.3549 - val_accuracy: 0.8446\n",
            "Epoch 6/50\n",
            "163/163 [==============================] - 0s 3ms/step - loss: 0.1077 - accuracy: 0.9655 - val_loss: 0.5295 - val_accuracy: 0.7997\n",
            "Epoch 7/50\n",
            "163/163 [==============================] - 0s 3ms/step - loss: 0.0937 - accuracy: 0.9682 - val_loss: 0.4440 - val_accuracy: 0.8205\n",
            "Epoch 8/50\n",
            "163/163 [==============================] - 0s 3ms/step - loss: 0.0836 - accuracy: 0.9697 - val_loss: 0.6086 - val_accuracy: 0.7740\n",
            "Epoch 9/50\n",
            "163/163 [==============================] - 0s 3ms/step - loss: 0.0872 - accuracy: 0.9714 - val_loss: 0.6678 - val_accuracy: 0.7676\n",
            "Epoch 10/50\n",
            "163/163 [==============================] - 0s 3ms/step - loss: 0.0792 - accuracy: 0.9743 - val_loss: 1.0138 - val_accuracy: 0.7260\n",
            "Epoch 11/50\n",
            "163/163 [==============================] - 0s 3ms/step - loss: 0.0652 - accuracy: 0.9810 - val_loss: 0.5691 - val_accuracy: 0.7997\n",
            "Epoch 12/50\n",
            "163/163 [==============================] - 0s 3ms/step - loss: 0.0733 - accuracy: 0.9743 - val_loss: 0.8448 - val_accuracy: 0.7468\n",
            "Epoch 13/50\n",
            "163/163 [==============================] - 0s 3ms/step - loss: 0.0613 - accuracy: 0.9799 - val_loss: 0.8902 - val_accuracy: 0.7372\n",
            "Epoch 14/50\n",
            "163/163 [==============================] - 0s 3ms/step - loss: 0.0565 - accuracy: 0.9806 - val_loss: 0.8482 - val_accuracy: 0.7564\n",
            "Epoch 15/50\n",
            "163/163 [==============================] - 0s 3ms/step - loss: 0.0566 - accuracy: 0.9816 - val_loss: 0.8874 - val_accuracy: 0.7532\n",
            "Epoch 16/50\n",
            "163/163 [==============================] - 0s 3ms/step - loss: 0.0578 - accuracy: 0.9801 - val_loss: 1.0964 - val_accuracy: 0.7260\n",
            "Epoch 17/50\n",
            "163/163 [==============================] - 0s 3ms/step - loss: 0.0549 - accuracy: 0.9812 - val_loss: 0.7574 - val_accuracy: 0.7708\n",
            "Epoch 18/50\n",
            "163/163 [==============================] - 0s 3ms/step - loss: 0.0518 - accuracy: 0.9810 - val_loss: 0.6604 - val_accuracy: 0.7756\n",
            "Epoch 19/50\n",
            "163/163 [==============================] - 0s 3ms/step - loss: 0.0572 - accuracy: 0.9816 - val_loss: 0.7584 - val_accuracy: 0.7692\n",
            "Epoch 20/50\n",
            "163/163 [==============================] - 0s 3ms/step - loss: 0.0552 - accuracy: 0.9801 - val_loss: 0.7975 - val_accuracy: 0.7564\n",
            "Epoch 21/50\n",
            "163/163 [==============================] - 0s 3ms/step - loss: 0.0428 - accuracy: 0.9862 - val_loss: 0.7753 - val_accuracy: 0.7708\n",
            "Epoch 22/50\n",
            "163/163 [==============================] - 0s 3ms/step - loss: 0.0459 - accuracy: 0.9847 - val_loss: 0.4951 - val_accuracy: 0.8317\n",
            "Epoch 23/50\n",
            "163/163 [==============================] - 0s 3ms/step - loss: 0.0442 - accuracy: 0.9864 - val_loss: 0.5994 - val_accuracy: 0.7821\n",
            "Epoch 24/50\n",
            "163/163 [==============================] - 0s 3ms/step - loss: 0.0419 - accuracy: 0.9875 - val_loss: 0.6946 - val_accuracy: 0.7788\n",
            "Epoch 25/50\n",
            "163/163 [==============================] - 0s 3ms/step - loss: 0.0463 - accuracy: 0.9845 - val_loss: 0.6190 - val_accuracy: 0.7949\n",
            "Epoch 26/50\n",
            "163/163 [==============================] - 0s 3ms/step - loss: 0.0446 - accuracy: 0.9850 - val_loss: 0.6705 - val_accuracy: 0.7788\n",
            "Epoch 27/50\n",
            "163/163 [==============================] - 0s 3ms/step - loss: 0.0442 - accuracy: 0.9860 - val_loss: 1.0540 - val_accuracy: 0.7420\n",
            "Epoch 28/50\n",
            "163/163 [==============================] - 0s 3ms/step - loss: 0.0474 - accuracy: 0.9843 - val_loss: 0.9248 - val_accuracy: 0.7500\n",
            "Epoch 29/50\n",
            "163/163 [==============================] - 0s 3ms/step - loss: 0.0413 - accuracy: 0.9870 - val_loss: 0.6177 - val_accuracy: 0.7997\n",
            "Epoch 30/50\n",
            "163/163 [==============================] - 0s 3ms/step - loss: 0.0382 - accuracy: 0.9885 - val_loss: 0.5643 - val_accuracy: 0.8125\n",
            "Epoch 31/50\n",
            "163/163 [==============================] - 0s 3ms/step - loss: 0.0373 - accuracy: 0.9877 - val_loss: 0.4476 - val_accuracy: 0.8446\n",
            "Epoch 32/50\n",
            "163/163 [==============================] - 0s 3ms/step - loss: 0.0383 - accuracy: 0.9860 - val_loss: 0.9596 - val_accuracy: 0.7564\n",
            "Epoch 33/50\n",
            "163/163 [==============================] - 0s 3ms/step - loss: 0.0345 - accuracy: 0.9896 - val_loss: 0.8706 - val_accuracy: 0.7644\n",
            "Epoch 34/50\n",
            "163/163 [==============================] - 0s 3ms/step - loss: 0.0389 - accuracy: 0.9883 - val_loss: 0.7293 - val_accuracy: 0.7772\n",
            "Epoch 35/50\n",
            "163/163 [==============================] - 0s 3ms/step - loss: 0.0391 - accuracy: 0.9883 - val_loss: 0.6399 - val_accuracy: 0.7997\n",
            "Epoch 36/50\n",
            "163/163 [==============================] - 0s 3ms/step - loss: 0.0351 - accuracy: 0.9893 - val_loss: 0.7302 - val_accuracy: 0.7837\n",
            "Epoch 37/50\n",
            "163/163 [==============================] - 0s 3ms/step - loss: 0.0356 - accuracy: 0.9891 - val_loss: 0.7023 - val_accuracy: 0.7740\n",
            "Epoch 38/50\n",
            "163/163 [==============================] - 0s 3ms/step - loss: 0.0329 - accuracy: 0.9885 - val_loss: 1.3193 - val_accuracy: 0.7292\n",
            "Epoch 39/50\n",
            "163/163 [==============================] - 0s 3ms/step - loss: 0.0359 - accuracy: 0.9902 - val_loss: 0.9785 - val_accuracy: 0.7564\n",
            "Epoch 40/50\n",
            "163/163 [==============================] - 0s 3ms/step - loss: 0.0360 - accuracy: 0.9895 - val_loss: 0.7992 - val_accuracy: 0.7708\n",
            "Epoch 41/50\n",
            "163/163 [==============================] - 0s 3ms/step - loss: 0.0394 - accuracy: 0.9883 - val_loss: 0.9644 - val_accuracy: 0.7564\n",
            "Epoch 42/50\n",
            "163/163 [==============================] - 0s 3ms/step - loss: 0.0349 - accuracy: 0.9893 - val_loss: 0.5620 - val_accuracy: 0.8237\n",
            "Epoch 43/50\n",
            "163/163 [==============================] - 0s 3ms/step - loss: 0.0324 - accuracy: 0.9912 - val_loss: 0.8113 - val_accuracy: 0.7724\n",
            "Epoch 44/50\n",
            "163/163 [==============================] - 0s 3ms/step - loss: 0.0285 - accuracy: 0.9912 - val_loss: 0.5505 - val_accuracy: 0.8237\n",
            "Epoch 45/50\n",
            "163/163 [==============================] - 0s 3ms/step - loss: 0.0330 - accuracy: 0.9893 - val_loss: 0.8032 - val_accuracy: 0.7660\n",
            "Epoch 46/50\n",
            "163/163 [==============================] - 0s 3ms/step - loss: 0.0313 - accuracy: 0.9906 - val_loss: 0.5657 - val_accuracy: 0.8077\n",
            "Epoch 47/50\n",
            "163/163 [==============================] - 0s 3ms/step - loss: 0.0333 - accuracy: 0.9896 - val_loss: 0.7055 - val_accuracy: 0.7821\n",
            "Epoch 48/50\n",
            "163/163 [==============================] - 0s 3ms/step - loss: 0.0396 - accuracy: 0.9881 - val_loss: 0.7431 - val_accuracy: 0.7837\n",
            "Epoch 49/50\n",
            "163/163 [==============================] - 0s 3ms/step - loss: 0.0312 - accuracy: 0.9900 - val_loss: 0.9511 - val_accuracy: 0.7484\n",
            "Epoch 50/50\n",
            "163/163 [==============================] - 0s 3ms/step - loss: 0.0324 - accuracy: 0.9902 - val_loss: 0.6058 - val_accuracy: 0.8045\n"
          ],
          "name": "stdout"
        }
      ]
    },
    {
      "cell_type": "code",
      "metadata": {
        "id": "iqmIgpXCQGl1",
        "colab_type": "code",
        "colab": {}
      },
      "source": [
        "# save model and weights.\n",
        "model_json = model.to_json()\n",
        "with open(\"/content/drive/My Drive/pneumonia_model.json\", \"w\") as json_file:\n",
        "    json_file.write(model_json)\n",
        "# serialize weights to HDF5\n",
        "model.save_weights(\"/content/drive/My Drive/pneumonia_model_weights.h5\")"
      ],
      "execution_count": 0,
      "outputs": []
    },
    {
      "cell_type": "code",
      "metadata": {
        "id": "3RBfLk2cZp5O",
        "colab_type": "code",
        "colab": {}
      },
      "source": [
        "# load json and create model\n",
        "json_file = open('/content/drive/My Drive/pneumonia_model.json', 'r')\n",
        "loaded_model_json = json_file.read()\n",
        "json_file.close()\n",
        "loaded_model = keras.models.model_from_json(loaded_model_json)\n",
        "# load weights into new model\n",
        "loaded_model.load_weights(\"/content/drive/My Drive/pneumonia_model_weights.h5\")"
      ],
      "execution_count": 0,
      "outputs": []
    },
    {
      "cell_type": "code",
      "metadata": {
        "id": "1x6yljOeZp9d",
        "colab_type": "code",
        "outputId": "4ec64429-354a-4a3c-a423-1b37b7565cf6",
        "colab": {
          "base_uri": "https://localhost:8080/",
          "height": 34
        }
      },
      "source": [
        "loaded_model.compile(loss=\"binary_crossentropy\",optimizer=keras.optimizers.Adam(1e-4),metrics=[\"accuracy\"])\n",
        "score=loaded_model.evaluate(x_val,y_val,verbose=1)"
      ],
      "execution_count": 0,
      "outputs": [
        {
          "output_type": "stream",
          "text": [
            "20/20 [==============================] - 0s 3ms/step - loss: 0.6058 - accuracy: 0.8045\n"
          ],
          "name": "stdout"
        }
      ]
    },
    {
      "cell_type": "code",
      "metadata": {
        "id": "Y1dLnjY_Zp3W",
        "colab_type": "code",
        "colab": {}
      },
      "source": [
        "pred=loaded_model.predict(x_train)\n",
        "pred_train=[]\n",
        "for i in pred:\n",
        "  if(i>0.5):\n",
        "    pred_train.append(1)\n",
        "  else:\n",
        "    pred_train.append(0)  "
      ],
      "execution_count": 0,
      "outputs": []
    },
    {
      "cell_type": "code",
      "metadata": {
        "id": "rwpOv0-N4Lvf",
        "colab_type": "code",
        "colab": {}
      },
      "source": [
        "pred=loaded_model.predict(x_val)\n",
        "pred_val=[]\n",
        "for i in pred:\n",
        "  if(i>0.5):\n",
        "    pred_val.append(1)\n",
        "  else:\n",
        "    pred_val.append(0)  "
      ],
      "execution_count": 0,
      "outputs": []
    },
    {
      "cell_type": "code",
      "metadata": {
        "id": "AffbHsrQdneN",
        "colab_type": "code",
        "outputId": "0eabcce3-a793-4c83-83b8-45be2e567d9b",
        "colab": {
          "base_uri": "https://localhost:8080/",
          "height": 545
        }
      },
      "source": [
        "from sklearn.metrics import confusion_matrix\n",
        "import seaborn as sns\n",
        "sns.heatmap(confusion_matrix(y_train,np.array(pred_train)),annot=True,fmt=\"d\",linewidths=\"1\")\n",
        "plt.title(\"Confusion matrix for train data\")\n",
        "plt.show()\n",
        "sns.heatmap(confusion_matrix(y_val,np.array(pred_val)),annot=True,fmt=\"d\",linewidths=\"1\")\n",
        "plt.title(\"Confusion amtrix for test data\")\n",
        "plt.show()"
      ],
      "execution_count": 0,
      "outputs": [
        {
          "output_type": "display_data",
          "data": {
            "image/png": "[encoded data removed]",
            "text/plain": [
              "<Figure size 432x288 with 2 Axes>"
            ]
          },
          "metadata": {
            "tags": []
          }
        },
        {
          "output_type": "display_data",
          "data": {
            "image/png": "[encoded data removed]",
            "text/plain": [
              "<Figure size 432x288 with 2 Axes>"
            ]
          },
          "metadata": {
            "tags": []
          }
        }
      ]
    },
    {
      "cell_type": "markdown",
      "metadata": {
        "id": "fuETnxuR7GWG",
        "colab_type": "text"
      },
      "source": [
        "**Precision and Recall for Positive points(1) :**"
      ]
    },
    {
      "cell_type": "code",
      "metadata": {
        "id": "rTMx39xQ4yoN",
        "colab_type": "code",
        "outputId": "fcef94fa-0864-46d9-b4f8-cc09385fabfc",
        "colab": {
          "base_uri": "https://localhost:8080/",
          "height": 51
        }
      },
      "source": [
        "print(\"Precision(Train) :\",3853/(3853+0))\n",
        "print(\"Precision(Val) :\",380/(380+112))"
      ],
      "execution_count": 0,
      "outputs": [
        {
          "output_type": "stream",
          "text": [
            "Precision(Train) : 1.0\n",
            "Precision(Val) : 0.7723577235772358\n"
          ],
          "name": "stdout"
        }
      ]
    },
    {
      "cell_type": "code",
      "metadata": {
        "id": "u1VMR1GT6MEi",
        "colab_type": "code",
        "outputId": "6d9d6208-6086-460a-c58c-2ab71f118656",
        "colab": {
          "base_uri": "https://localhost:8080/",
          "height": 51
        }
      },
      "source": [
        "print(\"Recall(Train) :\",3853/(3853+22))\n",
        "print(\"Recall(Val) :\",380/(380+10))"
      ],
      "execution_count": 0,
      "outputs": [
        {
          "output_type": "stream",
          "text": [
            "Recall(Train) : 0.9943225806451613\n",
            "Recall(Val) : 0.9743589743589743\n"
          ],
          "name": "stdout"
        }
      ]
    },
    {
      "cell_type": "markdown",
      "metadata": {
        "id": "xyisYVsw7bow",
        "colab_type": "text"
      },
      "source": [
        "**Precision and Recal for Negative points(0) :**"
      ]
    },
    {
      "cell_type": "code",
      "metadata": {
        "id": "J-tXB3FI6rDh",
        "colab_type": "code",
        "outputId": "9fc5319e-be8d-4458-e489-9c5802a44452",
        "colab": {
          "base_uri": "https://localhost:8080/",
          "height": 51
        }
      },
      "source": [
        "print(\"Precision(Train) :\",1341/(1341+22))\n",
        "print(\"Precision(Val) :\",122/(122+10))"
      ],
      "execution_count": 0,
      "outputs": [
        {
          "output_type": "stream",
          "text": [
            "Precision(Train) : 0.9838591342626559\n",
            "Precision(Val) : 0.9242424242424242\n"
          ],
          "name": "stdout"
        }
      ]
    },
    {
      "cell_type": "code",
      "metadata": {
        "id": "ScoT6dHz75gs",
        "colab_type": "code",
        "outputId": "487a35b6-a24a-4787-caf4-cb602f64fc86",
        "colab": {
          "base_uri": "https://localhost:8080/",
          "height": 51
        }
      },
      "source": [
        "print(\"Recall(Train) :\",1341/(1341+0))\n",
        "print(\"Recall(Val) :\",122/(122+112))"
      ],
      "execution_count": 0,
      "outputs": [
        {
          "output_type": "stream",
          "text": [
            "Recall(Train) : 1.0\n",
            "Recall(Val) : 0.5213675213675214\n"
          ],
          "name": "stdout"
        }
      ]
    },
    {
      "cell_type": "code",
      "metadata": {
        "id": "vCUvB9d69xFg",
        "colab_type": "code",
        "colab": {}
      },
      "source": [
        ""
      ],
      "execution_count": 0,
      "outputs": []
    }
  ]
}